{
 "cells": [
  {
   "cell_type": "markdown",
   "metadata": {},
   "source": [
    "t-testi, veri biliminde iki grubun ortalamaları arasında anlamlı bir fark olup olmadığını belirlemek için kullanılan temel bir istatistiksel araçtır. Örnek ortalamalar arasındaki karşılaştırmaların yaygın olduğu psikoloji, tıp ve işletme gibi çeşitli alanlarda bu çok önemlidir. T testi, gruplar içindeki varyasyona göre ortalamalar arasındaki farkı analiz ederek, gözlemlenen farkın istatistiksel olarak anlamlı mı yoksa sadece rastgele varyasyondan mı kaynaklandığını tespit etmeye yardımcı olur. Bu önem belirleme, karar verme süreçlerine yardımcı olarak veri bilimcilerin ve araştırmacıların, ister ilaç etkinliğini karşılaştırmak, ister pazarlama stratejilerini test etmek veya müdahalelerin etkisini incelemek olsun, veriler hakkında güvenle sonuç çıkarmasına olanak tanır. Sonuçta t-testi istatistiksel analizde bir temel taşıdır ve hipotezleri doğrulamak ve bilgiye dayalı, veriye dayalı kararlar vermek için titiz bir yöntem sağlar."
   ]
  },
  {
   "cell_type": "code",
   "execution_count": 1,
   "metadata": {},
   "outputs": [
    {
     "name": "stdout",
     "output_type": "stream",
     "text": [
      "t-statistic: 2.449489742783181\n",
      "p-value: 0.036787497879785976\n"
     ]
    }
   ],
   "source": [
    "import scipy.stats as stats\n",
    "\n",
    "sample = [7.2, 6.9, 7.5, 7.1, 7.3, 7.4, 6.8, 7.6, 7.0, 7.2]\n",
    "\n",
    "standard = 7\n",
    "\n",
    "t_stat, p_value = stats.ttest_1samp(sample, standard)\n",
    "\n",
    "print(\"t-statistic:\", t_stat)\n",
    "print(\"p-value:\", p_value)"
   ]
  }
 ],
 "metadata": {
  "kernelspec": {
   "display_name": "eyuphan",
   "language": "python",
   "name": "python3"
  },
  "language_info": {
   "codemirror_mode": {
    "name": "ipython",
    "version": 3
   },
   "file_extension": ".py",
   "mimetype": "text/x-python",
   "name": "python",
   "nbconvert_exporter": "python",
   "pygments_lexer": "ipython3",
   "version": "3.9.18"
  }
 },
 "nbformat": 4,
 "nbformat_minor": 2
}
